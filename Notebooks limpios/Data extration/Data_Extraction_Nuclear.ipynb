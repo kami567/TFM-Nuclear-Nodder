{
  "nbformat": 4,
  "nbformat_minor": 0,
  "metadata": {
    "colab": {
      "provenance": []
    },
    "kernelspec": {
      "name": "python3",
      "display_name": "Python 3"
    },
    "language_info": {
      "name": "python"
    }
  },
  "cells": [
    {
      "cell_type": "code",
      "execution_count": null,
      "metadata": {
        "id": "EYlKP_WOLVby"
      },
      "outputs": [],
      "source": []
    },
    {
      "cell_type": "code",
      "source": [
        "import importlib.util\n",
        "import subprocess\n",
        "\n",
        "# Lista de paquetes que queremos instalar si no están presentes\n",
        "packages = [\n",
        "    \"numpy\",\n",
        "    \"pandas\"\n",
        "]\n",
        "\n",
        "# Función para verificar e instalar paquetes\n",
        "def install_if_missing(package):\n",
        "    if importlib.util.find_spec(package) is None:\n",
        "        print(f\"Instalando {package}...\")\n",
        "        subprocess.check_call([\"pip\", \"install\", package])\n",
        "    else:\n",
        "        print(f\"{package} ya está instalado.\")\n",
        "\n",
        "# Iterar sobre la lista de paquetes\n",
        "for package in packages:\n",
        "    install_if_missing(package)"
      ],
      "metadata": {
        "colab": {
          "base_uri": "https://localhost:8080/"
        },
        "id": "NAsUChBcLvbC",
        "outputId": "d425d2cf-afbf-44aa-8cf8-b3bbc45ff4be"
      },
      "execution_count": null,
      "outputs": [
        {
          "output_type": "stream",
          "name": "stdout",
          "text": [
            "Instalando openmeteo-requests...\n",
            "Instalando requests-cache...\n",
            "Instalando retry-requests...\n",
            "numpy ya está instalado.\n",
            "pandas ya está instalado.\n",
            "Instalando ydata-profiling...\n",
            "skforecast ya está instalado.\n"
          ]
        }
      ]
    },
    {
      "cell_type": "code",
      "source": [
        "#Importamos las librerias\n",
        "import numpy as np\n",
        "import pandas as pd\n",
        "import matplotlib.pyplot as plt\n",
        "import matplotlib.dates as mdates\n",
        "from matplotlib import pyplot as plt\n",
        "from seaborn import heatmap\n",
        "import matplotlib.dates as mdates\n",
        "import streamlit as st\n",
        "import pandas as pd\n",
        "import io\n",
        "\n"
      ],
      "metadata": {
        "id": "ziqlBZ8lLzek"
      },
      "execution_count": null,
      "outputs": []
    },
    {
      "cell_type": "code",
      "source": [
        "\n",
        "# Agregar opción para que el usuario suba un archivo\n",
        "uploaded_file = st.file_uploader(\"Sube un archivo Excel\", type=[\"xlsx\"])\n",
        "\n",
        "if uploaded_file is not None:\n",
        "    excel_data = pd.ExcelFile(uploaded_file)\n",
        "\n",
        "    # Mostrar las hojas disponibles y permitir al usuario elegir\n",
        "    sheet_name = st.selectbox(\"Selecciona una hoja\", excel_data.sheet_names)\n",
        "\n",
        "    # Cargar la hoja seleccionada\n",
        "    df = pd.read_excel(excel_data, sheet_name=sheet_name)\n",
        "\n",
        "    st.write(f\"Mostrando datos de la hoja: {sheet_name}\")\n",
        "    st.write(df)\n",
        "\n",
        "\n",
        "# Cargar las hojas de datos para inspeccionar su contenido\n",
        "monthly_data = df\n",
        "\n",
        "\n",
        "\n",
        "# Buscar las primeras filas con datos válidos\n",
        "monthly_data_clean = monthly_data.dropna(how='all').reset_index(drop=True)\n",
        "\n",
        "\n",
        "# Definir los encabezados de las columnas\n",
        "column_headers = [\n",
        "    \"Date\",\n",
        "    \"Total_Operable_Units\",\n",
        "    \"Net_Summer_Capacity_MW\",\n",
        "    \"Net_Generation_MWh\",\n",
        "    \"Share_of_Electricity_Percent\",\n",
        "    \"Capacity_Factor_Percent\"\n",
        "]\n",
        "\n",
        "# Extraer datos válidos de las tablas\n",
        "monthly_data_extracted = monthly_data_clean.iloc[7:].reset_index(drop=True)\n",
        "monthly_data_extracted.columns = column_headers\n",
        "\n",
        "# Convertir las fechas a formato datetime donde sea posible\n",
        "monthly_data_extracted['Date'] = pd.to_datetime(monthly_data_extracted['Date'], errors='coerce')\n",
        "\n",
        "# Convertir las columnas numéricas\n",
        "numeric_columns = column_headers[1:]\n",
        "for col in numeric_columns:\n",
        "    monthly_data_extracted[col] = pd.to_numeric(monthly_data_extracted[col], errors='coerce')\n",
        "\n",
        "\n",
        "monthly_data_extracted.set_index('Date', inplace=True)\n",
        "\n",
        "\n",
        "\n",
        "# Dropear las filas antes de diciembre de 1994 en el DataFrame original\n",
        "monthly_data_extracted = monthly_data_extracted.loc['1994-12-01':]\n",
        "#Variable por unidad operativa\n",
        "monthly_data_per_unit = monthly_data_extracted.drop(columns=['Total_Operable_Units']).div(monthly_data_extracted['Total_Operable_Units'], axis=0)\n",
        "\n",
        "# Convertir el DataFrame a un archivo Excel en memoria\n",
        "output = io.BytesIO()\n",
        "with pd.ExcelWriter(output, engine='xlsxwriter') as writer:\n",
        "    monthly_data_per_unit.to_excel(writer, sheet_name='Monthly Data Per Unit')\n",
        "\n",
        "# Botón de descarga en Streamlit\n",
        "st.download_button(\n",
        "    label=\"Descargar archivo procesado\",\n",
        "    data=output.getvalue(),\n",
        "    file_name=\"monthly_data_per_unit.xlsx\",\n",
        "    mime=\"application/vnd.openxmlformats-officedocument.spreadsheetml.sheet\"\n",
        ")"
      ],
      "metadata": {
        "id": "fzCJtRw5Lzcg"
      },
      "execution_count": null,
      "outputs": []
    },
    {
      "cell_type": "markdown",
      "source": [],
      "metadata": {
        "id": "FO99f7CEgvwv"
      }
    }
  ]
}