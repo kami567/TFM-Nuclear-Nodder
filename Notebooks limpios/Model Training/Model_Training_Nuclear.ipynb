{
  "nbformat": 4,
  "nbformat_minor": 0,
  "metadata": {
    "colab": {
      "provenance": []
    },
    "kernelspec": {
      "name": "python3",
      "display_name": "Python 3"
    },
    "language_info": {
      "name": "python"
    }
  },
  "cells": [
    {
      "cell_type": "code",
      "execution_count": 2,
      "metadata": {
        "colab": {
          "base_uri": "https://localhost:8080/"
        },
        "id": "axsCnSMwLbOV",
        "outputId": "4504129f-ad93-48b0-8e9d-412768f130ee"
      },
      "outputs": [
        {
          "output_type": "stream",
          "name": "stdout",
          "text": [
            "numpy ya está instalado.\n",
            "pandas ya está instalado.\n",
            "skforecast ya está instalado.\n"
          ]
        }
      ],
      "source": [
        "import importlib.util\n",
        "import subprocess\n",
        "\n",
        "# Lista de paquetes que queremos instalar si no están presentes\n",
        "packages = [\n",
        "    \"numpy\",\n",
        "    \"pandas\",\n",
        "    \"skforecast\"\n",
        "]\n",
        "\n",
        "# Función para verificar e instalar paquetes\n",
        "def install_if_missing(package):\n",
        "    if importlib.util.find_spec(package) is None:\n",
        "        print(f\"Instalando {package}...\")\n",
        "        subprocess.check_call([\"pip\", \"install\", package])\n",
        "    else:\n",
        "        print(f\"{package} ya está instalado.\")\n",
        "\n",
        "# Iterar sobre la lista de paquetes\n",
        "for package in packages:\n",
        "    install_if_missing(package)\n",
        "    # Importamos las librerías básicas\n",
        "import numpy as np\n",
        "import pandas as pd\n",
        "import matplotlib.pyplot as plt\n",
        "import seaborn as sns\n",
        "import matplotlib.dates as mdates\n",
        "\n",
        "# Importamos librerías para visualización\n",
        "from seaborn import heatmap\n",
        "from matplotlib import pyplot as plt\n",
        "\n",
        "# Análisis y estadísticas\n",
        "\n",
        "from statsmodels.stats.outliers_influence import variance_inflation_factor\n",
        "from statsmodels.tsa.statespace.sarimax import SARIMAX\n",
        "import statsmodels.api as sm\n",
        "from scipy import stats\n",
        "from scipy.stats import boxcox\n",
        "\n",
        "# Machine Learning y preprocesamiento\n",
        "from sklearn.preprocessing import StandardScaler\n",
        "from sklearn.linear_model import LinearRegression, Ridge\n",
        "from sklearn.ensemble import RandomForestRegressor\n",
        "from sklearn.metrics import mean_absolute_error, mean_squared_error, r2_score\n",
        "\n",
        "# Forecasting con Skforecast\n",
        "import skforecast\n",
        "from skforecast.datasets import fetch_dataset\n",
        "from skforecast.recursive import ForecasterRecursive\n",
        "from skforecast.direct import ForecasterDirect\n",
        "from skforecast.model_selection import TimeSeriesFold, grid_search_forecaster, backtesting_forecaster\n",
        "from skforecast.preprocessing import RollingFeatures\n",
        "from skforecast.utils import save_forecaster, load_forecaster\n",
        "\n",
        "# SHAP para interpretabilidad de modelos\n",
        "import shap\n",
        "import joblib\n"
      ]
    },
    {
      "cell_type": "code",
      "source": [],
      "metadata": {
        "id": "rZb0Q6aeyHh3"
      },
      "execution_count": 2,
      "outputs": []
    },
    {
      "cell_type": "code",
      "source": [],
      "metadata": {
        "id": "5JLamFiD4hSm"
      },
      "execution_count": 2,
      "outputs": []
    },
    {
      "cell_type": "markdown",
      "source": [
        "Tras Varias pruebas, por error, captura de tendencia, y coste computacional vamos a utilizar el modelo ridge multipaso directo para la prediccion de la net generation por unidad operativa\n",
        "\n",
        "si se quisiera calcular el resto de variables mejor SARIMAX\n"
      ],
      "metadata": {
        "id": "Z-u5AigywQKq"
      }
    },
    {
      "cell_type": "code",
      "source": [
        "df=pd.read_excel('/content/monthly_data_per_unit.xlsx',index_col=0)\n",
        "df.index = pd.to_datetime(df.index).to_period('M')\n",
        "df.head(),df.index"
      ],
      "metadata": {
        "colab": {
          "base_uri": "https://localhost:8080/"
        },
        "id": "f43pzioZwcyG",
        "outputId": "f09c2525-7ecb-4adb-f61f-d42ab44c6006"
      },
      "execution_count": 3,
      "outputs": [
        {
          "output_type": "execute_result",
          "data": {
            "text/plain": [
              "(         Net_Summer_Capacity_MW  Net_Generation_MWh  \\\n",
              " Date                                                  \n",
              " 1994-12                0.909615          555.018349   \n",
              " 1995-01                0.909615          581.119266   \n",
              " 1995-02                0.909615          475.761468   \n",
              " 1995-03                0.909615          475.963303   \n",
              " 1995-04                0.909615          452.486239   \n",
              " \n",
              "          Share_of_Electricity_Percent  Capacity_Factor_Percent  \n",
              " Date                                                            \n",
              " 1994-12                      0.205505                 0.752294  \n",
              " 1995-01                      0.207339                 0.788073  \n",
              " 1995-02                      0.188991                 0.713761  \n",
              " 1995-03                      0.182569                 0.644954  \n",
              " 1995-04                      0.185321                 0.634862  ,\n",
              " PeriodIndex(['1994-12', '1995-01', '1995-02', '1995-03', '1995-04', '1995-05',\n",
              "              '1995-06', '1995-07', '1995-08', '1995-09',\n",
              "              ...\n",
              "              '2024-02', '2024-03', '2024-04', '2024-05', '2024-06', '2024-07',\n",
              "              '2024-08', '2024-09', '2024-10', '2024-11'],\n",
              "             dtype='period[M]', name='Date', length=360))"
            ]
          },
          "metadata": {},
          "execution_count": 3
        }
      ]
    },
    {
      "cell_type": "code",
      "source": [
        "def escalar_xy(data, variables_exogoenas):\n",
        "    \"\"\"\n",
        "    Escala la(s) variable(s) exogenas y extrae la variable dependiente del conjunto de datos proporcionado.\n",
        "\n",
        "    Parámetros:\n",
        "    - data (pd.DataFrame): DataFrame con los datos originales, debe contener las columnas necesarias.\n",
        "    - variables (list): Lista de nombres de las variables exógenas a escalar.\n",
        "\n",
        "    Retorna:\n",
        "    - X_escalado (pd.DataFrame): DataFrame con las variables exógenas escaladas.\n",
        "    - Y_data (pd.Series): Serie con la variable dependiente \"Net_Generation_MWh\".\n",
        "    - scalers (dict): Diccionario con los `StandardScaler()` usados para cada variable.\n",
        "    \"\"\"\n",
        "    scalers = {}  # Diccionario para almacenar los scalers\n",
        "\n",
        "    # Extraer y escalar cada variable exógena individualmente\n",
        "    X_escalado = pd.DataFrame(index=data.index)\n",
        "\n",
        "    for col in variables_exogoenas:\n",
        "        scaler = StandardScaler()\n",
        "        X_escalado[col] = scaler.fit_transform(data[[col]])  # Escalar la columna\n",
        "        scalers[col] = scaler  # Guardar el scaler usado\n",
        "\n",
        "\n",
        "\n",
        "    # Seleccionar la variable dependiente\n",
        "    Y_data = data[\"Net_Generation_MWh\"]\n",
        "    Y_data.index = X_escalado.index  # Asignar el índice de X_escalado\n",
        "\n",
        "    return X_escalado, Y_data, scalers\n",
        "\n",
        "\n",
        "def entrenar_modelos_sarimax(X_escalado, variables, sarima_order=(2,1,2), seasonal_order=(1,1,1,12)):\n",
        "    \"\"\"\n",
        "    Entrena modelos SARIMAX para cada variable exógena seleccionada.\n",
        "\n",
        "    Parámetros:\n",
        "    - X_escalado (pd.DataFrame): DataFrame con las variables exógenas escaladas.\n",
        "    - variables (list): Lista de nombres de las variables a modelar.\n",
        "    - sarima_order (tuple): Parámetros (p, d, q) del modelo SARIMAX.\n",
        "    - seasonal_order (tuple): Parámetros estacionales (P, D, Q, S) del modelo SARIMAX.\n",
        "\n",
        "    Retorna:\n",
        "    - modelos_sarimax (dict): Diccionario con los modelos entrenados para cada variable.\n",
        "    \"\"\"\n",
        "    modelos_sarimax = {}\n",
        "\n",
        "    # Iterar sobre cada variable exógena seleccionada y entrenar un SARIMAX distinto\n",
        "    for var in variables:\n",
        "        print(f\"📊 Entrenando modelo SARIMAX para {var}...\")\n",
        "\n",
        "        # Definir modelo SARIMAX para la variable actual\n",
        "        model = SARIMAX(\n",
        "            X_escalado[var],  # Modelamos la variable específica\n",
        "            order=sarima_order,\n",
        "            seasonal_order=seasonal_order,\n",
        "            enforce_stationarity=False,\n",
        "            enforce_invertibility=False\n",
        "        ).fit()\n",
        "\n",
        "        # Guardar el modelo en el diccionario\n",
        "        modelos_sarimax[var] = model\n",
        "\n",
        "    return modelos_sarimax\n",
        "\n",
        "\n",
        "def entrenar_modelo_ridge(Y_data, años, lags):\n",
        "    \"\"\"\n",
        "    Entrena un modelo Ridge con Skforecast para una serie temporal dada.\n",
        "\n",
        "    Parámetros:\n",
        "    - Y_data (pd.Series): Serie temporal que se usará como variable dependiente.\n",
        "    - años (int): Cantidad de años para la predicción.\n",
        "    - lags (list o array): Lags a utilizar en el modelo.\n",
        "\n",
        "    Retorna:\n",
        "    - forecaster_ridge (ForecasterDirect): Modelo entrenado listo para predecir.\n",
        "    \"\"\"\n",
        "\n",
        "    Y_data.index = Y_data.index.to_timestamp()\n",
        "    Y_data = Y_data.asfreq('MS')\n",
        "\n",
        "\n",
        "\n",
        "\n",
        "\n",
        "    # Verificar que el índice es correcto ahora\n",
        "    print(\"\\n🔍 Índice de Y_data después de la conversión:\")\n",
        "    print(Y_data.index)\n",
        "    print(f\"Frecuencia del índice después de la conversión: {Y_data.index.freq}\")\n",
        "\n",
        "    # Definir y entrenar el modelo Ridge con Skforecast\n",
        "    forecaster_ridge = ForecasterDirect(\n",
        "        regressor=Ridge(),\n",
        "        lags=lags,\n",
        "        steps=12 * años\n",
        "    )\n",
        "\n",
        "    # Entrenar el modelo\n",
        "    forecaster_ridge.fit(Y_data)\n",
        "\n",
        "    return forecaster_ridge\n",
        "\n",
        "\n",
        "\n"
      ],
      "metadata": {
        "id": "EBrS3PavwdM2"
      },
      "execution_count": 22,
      "outputs": []
    },
    {
      "cell_type": "code",
      "source": [
        "#rm SARIMAX_Net_Summer_Capacity_MW.joblib SARIMAX_Capacity_Factor_Percent.joblib modelo_ridge_NetGeneration.joblib scalers.pkl X_escalado.xlsx Y_escalado.xlsx\n"
      ],
      "metadata": {
        "id": "zzXyyecpOdlj"
      },
      "execution_count": null,
      "outputs": []
    },
    {
      "cell_type": "code",
      "source": [],
      "metadata": {
        "id": "-pHiKVVnuJss"
      },
      "execution_count": null,
      "outputs": []
    },
    {
      "cell_type": "code",
      "source": [
        "#Entrenar y guardar modelos SARIMAX con Skforecast\n",
        "modelos_sarimax = entrenar_modelos_sarimax(X_escalado, ['Net_Summer_Capacity_MW', 'Capacity_Factor_Percent'],\n",
        "                                           sarima_order=(2,1,2), seasonal_order=(1,1,1,12))\n",
        "\n",
        "SARIMAX_Net_Summer_Capacity_MW = modelos_sarimax['Net_Summer_Capacity_MW']\n",
        "SARIMAX_Capacity_Factor_Percent = modelos_sarimax['Capacity_Factor_Percent']"
      ],
      "metadata": {
        "id": "WRLCqIihxKe-"
      },
      "execution_count": null,
      "outputs": []
    },
    {
      "cell_type": "code",
      "source": [
        "#Escalar los datos\n",
        "X_escalado, Y_escalado, scalers = escalar_xy(df, ['Net_Summer_Capacity_MW', 'Capacity_Factor_Percent'])\n",
        "X_escalado.head(), Y_escalado.head(), scalers\n",
        "print(Y_escalado,Y_escalado.index,type(Y_escalado))\n",
        "\n",
        "#Guardar los scalers con joblib\n",
        "joblib.dump(scalers, \"scalers.pkl\")\n",
        "print(\"Scalers guardados en scalers.pkl\")\n",
        "\n",
        "\n",
        "#Entrenar y guardar modelo Ridge con Skforecast\n",
        "años = 15\n",
        "lags = np.arange(1, 35)\n",
        "modelo_ridge_NetGeneration = entrenar_modelo_ridge(Y_escalado, años, lags)\n",
        "\n",
        "# Guardar con save_forecaster()\n",
        "joblib.dump(modelo_ridge_NetGeneration, \"modelo_ridge_NetGeneration.pkl\")\n",
        "print(\"Modelo Ridge guardado en modelo_ridge_NetGeneration.joblib\")\n",
        "save_forecaster(SARIMAX_Net_Summer_Capacity_MW, \"SARIMAX_Net_Summer_Capacity_MW.joblib\")\n",
        "save_forecaster(SARIMAX_Capacity_Factor_Percent, \"SARIMAX_Capacity_Factor_Percent.joblib\")\n",
        "save_forecaster(modelo_ridge_NetGeneration, \"modelo_ridge_NetGeneration.joblib\")"
      ],
      "metadata": {
        "colab": {
          "base_uri": "https://localhost:8080/"
        },
        "id": "pVQC2Oz525P8",
        "outputId": "21dccd8a-2640-4acf-8c3c-a93e3300d89e"
      },
      "execution_count": 27,
      "outputs": [
        {
          "output_type": "stream",
          "name": "stdout",
          "text": [
            "Date\n",
            "1994-12    555.018349\n",
            "1995-01    581.119266\n",
            "1995-02    475.761468\n",
            "1995-03    475.963303\n",
            "1995-04    452.486239\n",
            "              ...    \n",
            "2024-07    743.457447\n",
            "2024-08    742.127660\n",
            "2024-09    666.595745\n",
            "2024-10    621.670213\n",
            "2024-11    658.553191\n",
            "Freq: M, Name: Net_Generation_MWh, Length: 360, dtype: float64 PeriodIndex(['1994-12', '1995-01', '1995-02', '1995-03', '1995-04', '1995-05',\n",
            "             '1995-06', '1995-07', '1995-08', '1995-09',\n",
            "             ...\n",
            "             '2024-02', '2024-03', '2024-04', '2024-05', '2024-06', '2024-07',\n",
            "             '2024-08', '2024-09', '2024-10', '2024-11'],\n",
            "            dtype='period[M]', name='Date', length=360) <class 'pandas.core.series.Series'>\n",
            "Scalers guardados en scalers.pkl\n",
            "\n",
            "🔍 Índice de Y_data después de la conversión:\n",
            "DatetimeIndex(['1994-12-01', '1995-01-01', '1995-02-01', '1995-03-01',\n",
            "               '1995-04-01', '1995-05-01', '1995-06-01', '1995-07-01',\n",
            "               '1995-08-01', '1995-09-01',\n",
            "               ...\n",
            "               '2024-02-01', '2024-03-01', '2024-04-01', '2024-05-01',\n",
            "               '2024-06-01', '2024-07-01', '2024-08-01', '2024-09-01',\n",
            "               '2024-10-01', '2024-11-01'],\n",
            "              dtype='datetime64[ns]', name='Date', length=360, freq='MS')\n",
            "Frecuencia del índice después de la conversión: <MonthBegin>\n",
            "Modelo Ridge guardado en modelo_ridge_NetGeneration.joblib\n",
            "================ \n",
            "ForecasterDirect \n",
            "================ \n",
            "Regressor: Ridge \n",
            "Lags: [ 1  2  3  4  5  6  7  8  9 10 11 12 13 14 15 16 17 18 19 20 21 22 23 24\n",
            " 25 26 27 28 29 30 31 32 33 34] \n",
            "Window features: None \n",
            "Window size: 34 \n",
            "Maximum steps to predict: 180 \n",
            "Exogenous included: False \n",
            "Exogenous names: None \n",
            "Transformer for y: None \n",
            "Transformer for exog: None \n",
            "Weight function included: False \n",
            "Differentiation order: None \n",
            "Training range: [Timestamp('1994-12-01 00:00:00'), Timestamp('2024-11-01 00:00:00')] \n",
            "Training index type: DatetimeIndex \n",
            "Training index frequency: MS \n",
            "Regressor parameters: \n",
            "    {'alpha': 1.0, 'copy_X': True, 'fit_intercept': True, 'max_iter': None,\n",
            "    'positive': False, 'random_state': None, 'solver': 'auto', 'tol': 0.0001} \n",
            "fit_kwargs: {} \n",
            "Creation date: 2025-03-18 09:51:25 \n",
            "Last fit date: 2025-03-18 09:51:26 \n",
            "Skforecast version: 0.15.0 \n",
            "Python version: 3.11.11 \n",
            "Forecaster id: None \n",
            "\n"
          ]
        }
      ]
    },
    {
      "cell_type": "code",
      "source": [
        "from skforecast.direct import ForecasterDirect\n",
        "from sklearn.linear_model import Ridge\n",
        "\n",
        "\n",
        "\n",
        "X_escalado, Y_escalado, scalers = escalar_xy(df, ['Net_Summer_Capacity_MW', 'Capacity_Factor_Percent'])\n",
        "X_escalado.head(), Y_escalado.head(), scalers\n",
        "\n",
        "modelo_ridge_NetGeneration = entrenar_modelo_ridge(Y_escalado, años=15, lags=np.arange(1, 35))\n",
        "prediction = modelo_ridge_NetGeneration.predict(steps=120)\n",
        "prediction, modelo_ridge_NetGeneration"
      ],
      "metadata": {
        "colab": {
          "base_uri": "https://localhost:8080/"
        },
        "id": "rlbWTOqFlxO6",
        "outputId": "88cd680e-d2f4-4d34-c319-0b9e2a11a400"
      },
      "execution_count": 24,
      "outputs": [
        {
          "output_type": "stream",
          "name": "stdout",
          "text": [
            "\n",
            "🔍 Índice de Y_data después de la conversión:\n",
            "DatetimeIndex(['1994-12-01', '1995-01-01', '1995-02-01', '1995-03-01',\n",
            "               '1995-04-01', '1995-05-01', '1995-06-01', '1995-07-01',\n",
            "               '1995-08-01', '1995-09-01',\n",
            "               ...\n",
            "               '2024-02-01', '2024-03-01', '2024-04-01', '2024-05-01',\n",
            "               '2024-06-01', '2024-07-01', '2024-08-01', '2024-09-01',\n",
            "               '2024-10-01', '2024-11-01'],\n",
            "              dtype='datetime64[ns]', name='Date', length=360, freq='MS')\n",
            "Frecuencia del índice después de la conversión: <MonthBegin>\n"
          ]
        },
        {
          "output_type": "execute_result",
          "data": {
            "text/plain": [
              "(2024-12-01    721.222239\n",
              " 2025-01-01    735.295695\n",
              " 2025-02-01    668.332680\n",
              " 2025-03-01    659.026093\n",
              " 2025-04-01    591.621098\n",
              "                  ...    \n",
              " 2034-07-01    741.851479\n",
              " 2034-08-01    723.441195\n",
              " 2034-09-01    663.604319\n",
              " 2034-10-01    628.529392\n",
              " 2034-11-01    671.840880\n",
              " Freq: MS, Name: pred, Length: 120, dtype: float64,\n",
              " ================ \n",
              " ForecasterDirect \n",
              " ================ \n",
              " Regressor: Ridge \n",
              " Lags: [ 1  2  3  4  5  6  7  8  9 10 11 12 13 14 15 16 17 18 19 20 21 22 23 24\n",
              "  25 26 27 28 29 30 31 32 33 34] \n",
              " Window features: None \n",
              " Window size: 34 \n",
              " Maximum steps to predict: 180 \n",
              " Exogenous included: False \n",
              " Exogenous names: None \n",
              " Transformer for y: None \n",
              " Transformer for exog: None \n",
              " Weight function included: False \n",
              " Differentiation order: None \n",
              " Training range: [Timestamp('1994-12-01 00:00:00'), Timestamp('2024-11-01 00:00:00')] \n",
              " Training index type: DatetimeIndex \n",
              " Training index frequency: MS \n",
              " Regressor parameters: \n",
              "     {'alpha': 1.0, 'copy_X': True, 'fit_intercept': True, 'max_iter': None,\n",
              "     'positive': False, 'random_state': None, 'solver': 'auto', 'tol': 0.0001} \n",
              " fit_kwargs: {} \n",
              " Creation date: 2025-03-18 09:47:17 \n",
              " Last fit date: 2025-03-18 09:47:18 \n",
              " Skforecast version: 0.15.0 \n",
              " Python version: 3.11.11 \n",
              " Forecaster id: None )"
            ]
          },
          "metadata": {},
          "execution_count": 24
        }
      ]
    },
    {
      "cell_type": "code",
      "source": [
        "#Guardamos X e Y\n",
        "X_escalado.to_excel('X_escalado.xlsx')\n",
        "Y_escalado.to_excel('Y_escalado.xlsx')"
      ],
      "metadata": {
        "id": "U-pRgk6OLrT9"
      },
      "execution_count": 82,
      "outputs": []
    },
    {
      "cell_type": "code",
      "source": [
        "# Descargar cada archivo individualmente\n",
        "from google.colab import files\n",
        "files.download(\"SARIMAX_Net_Summer_Capacity_MW.joblib\")\n",
        "files.download(\"SARIMAX_Capacity_Factor_Percent.joblib\")\n",
        "files.download(\"modelo_ridge_NetGeneration.joblib\")\n",
        "files.download(\"scalers.pkl\")\n",
        "files.download(\"X_escalado.xlsx\")\n",
        "files.download(\"Y_escalado.xlsx\")"
      ],
      "metadata": {
        "colab": {
          "base_uri": "https://localhost:8080/",
          "height": 17
        },
        "id": "ztZFeSXtPILX",
        "outputId": "37224163-b9f9-4368-9a9d-620587705d77"
      },
      "execution_count": 83,
      "outputs": [
        {
          "output_type": "display_data",
          "data": {
            "text/plain": [
              "<IPython.core.display.Javascript object>"
            ],
            "application/javascript": [
              "\n",
              "    async function download(id, filename, size) {\n",
              "      if (!google.colab.kernel.accessAllowed) {\n",
              "        return;\n",
              "      }\n",
              "      const div = document.createElement('div');\n",
              "      const label = document.createElement('label');\n",
              "      label.textContent = `Downloading \"${filename}\": `;\n",
              "      div.appendChild(label);\n",
              "      const progress = document.createElement('progress');\n",
              "      progress.max = size;\n",
              "      div.appendChild(progress);\n",
              "      document.body.appendChild(div);\n",
              "\n",
              "      const buffers = [];\n",
              "      let downloaded = 0;\n",
              "\n",
              "      const channel = await google.colab.kernel.comms.open(id);\n",
              "      // Send a message to notify the kernel that we're ready.\n",
              "      channel.send({})\n",
              "\n",
              "      for await (const message of channel.messages) {\n",
              "        // Send a message to notify the kernel that we're ready.\n",
              "        channel.send({})\n",
              "        if (message.buffers) {\n",
              "          for (const buffer of message.buffers) {\n",
              "            buffers.push(buffer);\n",
              "            downloaded += buffer.byteLength;\n",
              "            progress.value = downloaded;\n",
              "          }\n",
              "        }\n",
              "      }\n",
              "      const blob = new Blob(buffers, {type: 'application/binary'});\n",
              "      const a = document.createElement('a');\n",
              "      a.href = window.URL.createObjectURL(blob);\n",
              "      a.download = filename;\n",
              "      div.appendChild(a);\n",
              "      a.click();\n",
              "      div.remove();\n",
              "    }\n",
              "  "
            ]
          },
          "metadata": {}
        },
        {
          "output_type": "display_data",
          "data": {
            "text/plain": [
              "<IPython.core.display.Javascript object>"
            ],
            "application/javascript": [
              "download(\"download_799148f0-9116-40ee-b7d5-8eb4da5154ef\", \"SARIMAX_Net_Summer_Capacity_MW.joblib\", 54941932)"
            ]
          },
          "metadata": {}
        },
        {
          "output_type": "display_data",
          "data": {
            "text/plain": [
              "<IPython.core.display.Javascript object>"
            ],
            "application/javascript": [
              "\n",
              "    async function download(id, filename, size) {\n",
              "      if (!google.colab.kernel.accessAllowed) {\n",
              "        return;\n",
              "      }\n",
              "      const div = document.createElement('div');\n",
              "      const label = document.createElement('label');\n",
              "      label.textContent = `Downloading \"${filename}\": `;\n",
              "      div.appendChild(label);\n",
              "      const progress = document.createElement('progress');\n",
              "      progress.max = size;\n",
              "      div.appendChild(progress);\n",
              "      document.body.appendChild(div);\n",
              "\n",
              "      const buffers = [];\n",
              "      let downloaded = 0;\n",
              "\n",
              "      const channel = await google.colab.kernel.comms.open(id);\n",
              "      // Send a message to notify the kernel that we're ready.\n",
              "      channel.send({})\n",
              "\n",
              "      for await (const message of channel.messages) {\n",
              "        // Send a message to notify the kernel that we're ready.\n",
              "        channel.send({})\n",
              "        if (message.buffers) {\n",
              "          for (const buffer of message.buffers) {\n",
              "            buffers.push(buffer);\n",
              "            downloaded += buffer.byteLength;\n",
              "            progress.value = downloaded;\n",
              "          }\n",
              "        }\n",
              "      }\n",
              "      const blob = new Blob(buffers, {type: 'application/binary'});\n",
              "      const a = document.createElement('a');\n",
              "      a.href = window.URL.createObjectURL(blob);\n",
              "      a.download = filename;\n",
              "      div.appendChild(a);\n",
              "      a.click();\n",
              "      div.remove();\n",
              "    }\n",
              "  "
            ]
          },
          "metadata": {}
        },
        {
          "output_type": "display_data",
          "data": {
            "text/plain": [
              "<IPython.core.display.Javascript object>"
            ],
            "application/javascript": [
              "download(\"download_cdd31419-0999-4e08-941d-8a9db206ce81\", \"SARIMAX_Capacity_Factor_Percent.joblib\", 54941932)"
            ]
          },
          "metadata": {}
        },
        {
          "output_type": "display_data",
          "data": {
            "text/plain": [
              "<IPython.core.display.Javascript object>"
            ],
            "application/javascript": [
              "\n",
              "    async function download(id, filename, size) {\n",
              "      if (!google.colab.kernel.accessAllowed) {\n",
              "        return;\n",
              "      }\n",
              "      const div = document.createElement('div');\n",
              "      const label = document.createElement('label');\n",
              "      label.textContent = `Downloading \"${filename}\": `;\n",
              "      div.appendChild(label);\n",
              "      const progress = document.createElement('progress');\n",
              "      progress.max = size;\n",
              "      div.appendChild(progress);\n",
              "      document.body.appendChild(div);\n",
              "\n",
              "      const buffers = [];\n",
              "      let downloaded = 0;\n",
              "\n",
              "      const channel = await google.colab.kernel.comms.open(id);\n",
              "      // Send a message to notify the kernel that we're ready.\n",
              "      channel.send({})\n",
              "\n",
              "      for await (const message of channel.messages) {\n",
              "        // Send a message to notify the kernel that we're ready.\n",
              "        channel.send({})\n",
              "        if (message.buffers) {\n",
              "          for (const buffer of message.buffers) {\n",
              "            buffers.push(buffer);\n",
              "            downloaded += buffer.byteLength;\n",
              "            progress.value = downloaded;\n",
              "          }\n",
              "        }\n",
              "      }\n",
              "      const blob = new Blob(buffers, {type: 'application/binary'});\n",
              "      const a = document.createElement('a');\n",
              "      a.href = window.URL.createObjectURL(blob);\n",
              "      a.download = filename;\n",
              "      div.appendChild(a);\n",
              "      a.click();\n",
              "      div.remove();\n",
              "    }\n",
              "  "
            ]
          },
          "metadata": {}
        },
        {
          "output_type": "display_data",
          "data": {
            "text/plain": [
              "<IPython.core.display.Javascript object>"
            ],
            "application/javascript": [
              "download(\"download_ced157be-cc94-47da-b4cc-089ac77768bd\", \"modelo_ridge_NetGeneration.joblib\", 189431)"
            ]
          },
          "metadata": {}
        },
        {
          "output_type": "display_data",
          "data": {
            "text/plain": [
              "<IPython.core.display.Javascript object>"
            ],
            "application/javascript": [
              "\n",
              "    async function download(id, filename, size) {\n",
              "      if (!google.colab.kernel.accessAllowed) {\n",
              "        return;\n",
              "      }\n",
              "      const div = document.createElement('div');\n",
              "      const label = document.createElement('label');\n",
              "      label.textContent = `Downloading \"${filename}\": `;\n",
              "      div.appendChild(label);\n",
              "      const progress = document.createElement('progress');\n",
              "      progress.max = size;\n",
              "      div.appendChild(progress);\n",
              "      document.body.appendChild(div);\n",
              "\n",
              "      const buffers = [];\n",
              "      let downloaded = 0;\n",
              "\n",
              "      const channel = await google.colab.kernel.comms.open(id);\n",
              "      // Send a message to notify the kernel that we're ready.\n",
              "      channel.send({})\n",
              "\n",
              "      for await (const message of channel.messages) {\n",
              "        // Send a message to notify the kernel that we're ready.\n",
              "        channel.send({})\n",
              "        if (message.buffers) {\n",
              "          for (const buffer of message.buffers) {\n",
              "            buffers.push(buffer);\n",
              "            downloaded += buffer.byteLength;\n",
              "            progress.value = downloaded;\n",
              "          }\n",
              "        }\n",
              "      }\n",
              "      const blob = new Blob(buffers, {type: 'application/binary'});\n",
              "      const a = document.createElement('a');\n",
              "      a.href = window.URL.createObjectURL(blob);\n",
              "      a.download = filename;\n",
              "      div.appendChild(a);\n",
              "      a.click();\n",
              "      div.remove();\n",
              "    }\n",
              "  "
            ]
          },
          "metadata": {}
        },
        {
          "output_type": "display_data",
          "data": {
            "text/plain": [
              "<IPython.core.display.Javascript object>"
            ],
            "application/javascript": [
              "download(\"download_2a92fe76-4f01-471e-a4c1-b9e66459b9da\", \"scalers.pkl\", 1513)"
            ]
          },
          "metadata": {}
        },
        {
          "output_type": "display_data",
          "data": {
            "text/plain": [
              "<IPython.core.display.Javascript object>"
            ],
            "application/javascript": [
              "\n",
              "    async function download(id, filename, size) {\n",
              "      if (!google.colab.kernel.accessAllowed) {\n",
              "        return;\n",
              "      }\n",
              "      const div = document.createElement('div');\n",
              "      const label = document.createElement('label');\n",
              "      label.textContent = `Downloading \"${filename}\": `;\n",
              "      div.appendChild(label);\n",
              "      const progress = document.createElement('progress');\n",
              "      progress.max = size;\n",
              "      div.appendChild(progress);\n",
              "      document.body.appendChild(div);\n",
              "\n",
              "      const buffers = [];\n",
              "      let downloaded = 0;\n",
              "\n",
              "      const channel = await google.colab.kernel.comms.open(id);\n",
              "      // Send a message to notify the kernel that we're ready.\n",
              "      channel.send({})\n",
              "\n",
              "      for await (const message of channel.messages) {\n",
              "        // Send a message to notify the kernel that we're ready.\n",
              "        channel.send({})\n",
              "        if (message.buffers) {\n",
              "          for (const buffer of message.buffers) {\n",
              "            buffers.push(buffer);\n",
              "            downloaded += buffer.byteLength;\n",
              "            progress.value = downloaded;\n",
              "          }\n",
              "        }\n",
              "      }\n",
              "      const blob = new Blob(buffers, {type: 'application/binary'});\n",
              "      const a = document.createElement('a');\n",
              "      a.href = window.URL.createObjectURL(blob);\n",
              "      a.download = filename;\n",
              "      div.appendChild(a);\n",
              "      a.click();\n",
              "      div.remove();\n",
              "    }\n",
              "  "
            ]
          },
          "metadata": {}
        },
        {
          "output_type": "display_data",
          "data": {
            "text/plain": [
              "<IPython.core.display.Javascript object>"
            ],
            "application/javascript": [
              "download(\"download_37cd5e2e-3f1f-4faf-9193-b89bcda4f381\", \"X_escalado.xlsx\", 15005)"
            ]
          },
          "metadata": {}
        },
        {
          "output_type": "display_data",
          "data": {
            "text/plain": [
              "<IPython.core.display.Javascript object>"
            ],
            "application/javascript": [
              "\n",
              "    async function download(id, filename, size) {\n",
              "      if (!google.colab.kernel.accessAllowed) {\n",
              "        return;\n",
              "      }\n",
              "      const div = document.createElement('div');\n",
              "      const label = document.createElement('label');\n",
              "      label.textContent = `Downloading \"${filename}\": `;\n",
              "      div.appendChild(label);\n",
              "      const progress = document.createElement('progress');\n",
              "      progress.max = size;\n",
              "      div.appendChild(progress);\n",
              "      document.body.appendChild(div);\n",
              "\n",
              "      const buffers = [];\n",
              "      let downloaded = 0;\n",
              "\n",
              "      const channel = await google.colab.kernel.comms.open(id);\n",
              "      // Send a message to notify the kernel that we're ready.\n",
              "      channel.send({})\n",
              "\n",
              "      for await (const message of channel.messages) {\n",
              "        // Send a message to notify the kernel that we're ready.\n",
              "        channel.send({})\n",
              "        if (message.buffers) {\n",
              "          for (const buffer of message.buffers) {\n",
              "            buffers.push(buffer);\n",
              "            downloaded += buffer.byteLength;\n",
              "            progress.value = downloaded;\n",
              "          }\n",
              "        }\n",
              "      }\n",
              "      const blob = new Blob(buffers, {type: 'application/binary'});\n",
              "      const a = document.createElement('a');\n",
              "      a.href = window.URL.createObjectURL(blob);\n",
              "      a.download = filename;\n",
              "      div.appendChild(a);\n",
              "      a.click();\n",
              "      div.remove();\n",
              "    }\n",
              "  "
            ]
          },
          "metadata": {}
        },
        {
          "output_type": "display_data",
          "data": {
            "text/plain": [
              "<IPython.core.display.Javascript object>"
            ],
            "application/javascript": [
              "download(\"download_f2427c7f-1cd0-4722-b75d-be54d7dca1f1\", \"Y_escalado.xlsx\", 11708)"
            ]
          },
          "metadata": {}
        }
      ]
    },
    {
      "cell_type": "code",
      "source": [
        "import pickle\n",
        "\n",
        "# Guardar el modelo completo\n",
        "with open(\"modelo_ridge_pickle.pkl\", \"wb\") as f:\n",
        "    pickle.dump(modelo_ridge_NetGeneration, f)\n",
        "print(\"\\n✅ Modelo guardado con pickle.\")\n"
      ],
      "metadata": {
        "colab": {
          "base_uri": "https://localhost:8080/"
        },
        "id": "VcOKGmCjPijA",
        "outputId": "3bfc24fc-7a9b-4253-8e7c-680027328a79"
      },
      "execution_count": 105,
      "outputs": [
        {
          "output_type": "stream",
          "name": "stdout",
          "text": [
            "\n",
            "✅ Modelo guardado con pickle.\n"
          ]
        }
      ]
    }
  ]
}